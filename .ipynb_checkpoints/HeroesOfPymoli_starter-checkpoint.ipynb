{
 "cells": [
  {
   "cell_type": "markdown",
   "metadata": {},
   "source": [
    "### Heroes Of Pymoli Data Analysis\n",
    "* Of the 1163 active players, the vast majority are male (84%). There also exists, a smaller, but notable proportion of female players (14%).\n",
    "\n",
    "* Our peak age demographic falls between 20-24 (44.8%) with secondary groups falling between 15-19 (18.60%) and 25-29 (13.4%).  \n",
    "-----"
   ]
  },
  {
   "cell_type": "markdown",
   "metadata": {},
   "source": [
    "### Note\n",
    "* Instructions have been included for each segment. You do not have to follow them exactly, but they are included to help you think through the steps."
   ]
  },
  {
   "cell_type": "code",
   "execution_count": 1,
   "metadata": {},
   "outputs": [],
   "source": [
    "# Dependencies and Setup\n",
    "import pandas as pd\n",
    "\n",
    "# File to Load (Remember to Change These)\n",
    "file_to_load = \"Resources/purchase_data.csv\"\n",
    "\n",
    "# Read Purchasing File and store into Pandas data frame\n",
    "purchase_data = pd.read_csv(file_to_load)"
   ]
  },
  {
   "cell_type": "code",
   "execution_count": 2,
   "metadata": {},
   "outputs": [
    {
     "data": {
      "text/html": [
       "<div>\n",
       "<style scoped>\n",
       "    .dataframe tbody tr th:only-of-type {\n",
       "        vertical-align: middle;\n",
       "    }\n",
       "\n",
       "    .dataframe tbody tr th {\n",
       "        vertical-align: top;\n",
       "    }\n",
       "\n",
       "    .dataframe thead th {\n",
       "        text-align: right;\n",
       "    }\n",
       "</style>\n",
       "<table border=\"1\" class=\"dataframe\">\n",
       "  <thead>\n",
       "    <tr style=\"text-align: right;\">\n",
       "      <th></th>\n",
       "      <th>Purchase ID</th>\n",
       "      <th>SN</th>\n",
       "      <th>Age</th>\n",
       "      <th>Gender</th>\n",
       "      <th>Item ID</th>\n",
       "      <th>Item Name</th>\n",
       "      <th>Price</th>\n",
       "    </tr>\n",
       "  </thead>\n",
       "  <tbody>\n",
       "    <tr>\n",
       "      <th>0</th>\n",
       "      <td>0</td>\n",
       "      <td>Lisim78</td>\n",
       "      <td>20</td>\n",
       "      <td>Male</td>\n",
       "      <td>108</td>\n",
       "      <td>Extraction, Quickblade Of Trembling Hands</td>\n",
       "      <td>3.53</td>\n",
       "    </tr>\n",
       "    <tr>\n",
       "      <th>1</th>\n",
       "      <td>1</td>\n",
       "      <td>Lisovynya38</td>\n",
       "      <td>40</td>\n",
       "      <td>Male</td>\n",
       "      <td>143</td>\n",
       "      <td>Frenzied Scimitar</td>\n",
       "      <td>1.56</td>\n",
       "    </tr>\n",
       "    <tr>\n",
       "      <th>2</th>\n",
       "      <td>2</td>\n",
       "      <td>Ithergue48</td>\n",
       "      <td>24</td>\n",
       "      <td>Male</td>\n",
       "      <td>92</td>\n",
       "      <td>Final Critic</td>\n",
       "      <td>4.88</td>\n",
       "    </tr>\n",
       "    <tr>\n",
       "      <th>3</th>\n",
       "      <td>3</td>\n",
       "      <td>Chamassasya86</td>\n",
       "      <td>24</td>\n",
       "      <td>Male</td>\n",
       "      <td>100</td>\n",
       "      <td>Blindscythe</td>\n",
       "      <td>3.27</td>\n",
       "    </tr>\n",
       "    <tr>\n",
       "      <th>4</th>\n",
       "      <td>4</td>\n",
       "      <td>Iskosia90</td>\n",
       "      <td>23</td>\n",
       "      <td>Male</td>\n",
       "      <td>131</td>\n",
       "      <td>Fury</td>\n",
       "      <td>1.44</td>\n",
       "    </tr>\n",
       "  </tbody>\n",
       "</table>\n",
       "</div>"
      ],
      "text/plain": [
       "   Purchase ID             SN  Age Gender  Item ID  \\\n",
       "0            0        Lisim78   20   Male      108   \n",
       "1            1    Lisovynya38   40   Male      143   \n",
       "2            2     Ithergue48   24   Male       92   \n",
       "3            3  Chamassasya86   24   Male      100   \n",
       "4            4      Iskosia90   23   Male      131   \n",
       "\n",
       "                                   Item Name  Price  \n",
       "0  Extraction, Quickblade Of Trembling Hands   3.53  \n",
       "1                          Frenzied Scimitar   1.56  \n",
       "2                               Final Critic   4.88  \n",
       "3                                Blindscythe   3.27  \n",
       "4                                       Fury   1.44  "
      ]
     },
     "execution_count": 2,
     "metadata": {},
     "output_type": "execute_result"
    }
   ],
   "source": [
    "purchase_data.head()"
   ]
  },
  {
   "cell_type": "markdown",
   "metadata": {},
   "source": [
    "## Player Count"
   ]
  },
  {
   "cell_type": "markdown",
   "metadata": {},
   "source": [
    "* Display the total number of players\n"
   ]
  },
  {
   "cell_type": "code",
   "execution_count": 3,
   "metadata": {},
   "outputs": [
    {
     "data": {
      "text/html": [
       "<div>\n",
       "<style scoped>\n",
       "    .dataframe tbody tr th:only-of-type {\n",
       "        vertical-align: middle;\n",
       "    }\n",
       "\n",
       "    .dataframe tbody tr th {\n",
       "        vertical-align: top;\n",
       "    }\n",
       "\n",
       "    .dataframe thead th {\n",
       "        text-align: right;\n",
       "    }\n",
       "</style>\n",
       "<table border=\"1\" class=\"dataframe\">\n",
       "  <thead>\n",
       "    <tr style=\"text-align: right;\">\n",
       "      <th></th>\n",
       "      <th>Total number of players</th>\n",
       "    </tr>\n",
       "  </thead>\n",
       "  <tbody>\n",
       "    <tr>\n",
       "      <th>0</th>\n",
       "      <td>576</td>\n",
       "    </tr>\n",
       "  </tbody>\n",
       "</table>\n",
       "</div>"
      ],
      "text/plain": [
       "   Total number of players\n",
       "0                      576"
      ]
     },
     "execution_count": 3,
     "metadata": {},
     "output_type": "execute_result"
    }
   ],
   "source": [
    "number_players=len(purchase_data[\"SN\"].unique())\n",
    "pd.DataFrame([{\"Total number of players\":number_players}])\n"
   ]
  },
  {
   "cell_type": "markdown",
   "metadata": {},
   "source": [
    "## Purchasing Analysis (Total)"
   ]
  },
  {
   "cell_type": "markdown",
   "metadata": {},
   "source": [
    "* Run basic calculations to obtain number of unique items, average price, etc.\n",
    "\n",
    "\n",
    "* Create a summary data frame to hold the results\n",
    "\n",
    "\n",
    "* Optional: give the displayed data cleaner formatting\n",
    "\n",
    "\n",
    "* Display the summary data frame\n"
   ]
  },
  {
   "cell_type": "code",
   "execution_count": 4,
   "metadata": {
    "scrolled": true
   },
   "outputs": [
    {
     "data": {
      "text/html": [
       "<div>\n",
       "<style scoped>\n",
       "    .dataframe tbody tr th:only-of-type {\n",
       "        vertical-align: middle;\n",
       "    }\n",
       "\n",
       "    .dataframe tbody tr th {\n",
       "        vertical-align: top;\n",
       "    }\n",
       "\n",
       "    .dataframe thead th {\n",
       "        text-align: right;\n",
       "    }\n",
       "</style>\n",
       "<table border=\"1\" class=\"dataframe\">\n",
       "  <thead>\n",
       "    <tr style=\"text-align: right;\">\n",
       "      <th></th>\n",
       "      <th>Number of unique items</th>\n",
       "      <th>Average purchase price</th>\n",
       "      <th>Total number of purchases</th>\n",
       "      <th>Total revenue</th>\n",
       "    </tr>\n",
       "  </thead>\n",
       "  <tbody>\n",
       "    <tr>\n",
       "      <th>0</th>\n",
       "      <td>183</td>\n",
       "      <td>$3.05</td>\n",
       "      <td>780</td>\n",
       "      <td>$2379.77</td>\n",
       "    </tr>\n",
       "  </tbody>\n",
       "</table>\n",
       "</div>"
      ],
      "text/plain": [
       "   Number of unique items Average purchase price  Total number of purchases  \\\n",
       "0                     183                  $3.05                        780   \n",
       "\n",
       "  Total revenue  \n",
       "0      $2379.77  "
      ]
     },
     "execution_count": 4,
     "metadata": {},
     "output_type": "execute_result"
    }
   ],
   "source": [
    "number_uniq_items=len(purchase_data[\"Item ID\"].unique())\n",
    "avg_price=purchase_data[\"Price\"].mean()\n",
    "number_purchases=len(purchase_data[\"Purchase ID\"])\n",
    "total_revenue=purchase_data[\"Price\"].sum()\n",
    "summary_df=pd.DataFrame([{\"Number of unique items\":number_uniq_items,\n",
    "                       \"Average purchase price\":avg_price,\n",
    "                       \"Total number of purchases\":number_purchases,\n",
    "                        \"Total revenue\":total_revenue}])\n",
    "summary_df=summary_df[[\"Number of unique items\",\"Average purchase price\",\"Total number of purchases\",\"Total revenue\"]]\n",
    "summary_df[\"Average purchase price\"]=summary_df[\"Average purchase price\"].map(\"${:.2f}\".format)\n",
    "summary_df[\"Total revenue\"]=summary_df[\"Total revenue\"].map(\"${:.2f}\".format)\n",
    "summary_df"
   ]
  },
  {
   "cell_type": "markdown",
   "metadata": {},
   "source": [
    "## Gender Demographics"
   ]
  },
  {
   "cell_type": "markdown",
   "metadata": {},
   "source": [
    "* Percentage and Count of Male Players\n",
    "\n",
    "\n",
    "* Percentage and Count of Female Players\n",
    "\n",
    "\n",
    "* Percentage and Count of Other / Non-Disclosed\n",
    "\n",
    "\n"
   ]
  },
  {
   "cell_type": "code",
   "execution_count": 16,
   "metadata": {},
   "outputs": [
    {
     "data": {
      "text/html": [
       "<div>\n",
       "<style scoped>\n",
       "    .dataframe tbody tr th:only-of-type {\n",
       "        vertical-align: middle;\n",
       "    }\n",
       "\n",
       "    .dataframe tbody tr th {\n",
       "        vertical-align: top;\n",
       "    }\n",
       "\n",
       "    .dataframe thead th {\n",
       "        text-align: right;\n",
       "    }\n",
       "</style>\n",
       "<table border=\"1\" class=\"dataframe\">\n",
       "  <thead>\n",
       "    <tr style=\"text-align: right;\">\n",
       "      <th></th>\n",
       "      <th>Total count</th>\n",
       "      <th>Percentage of players</th>\n",
       "    </tr>\n",
       "    <tr>\n",
       "      <th>Gender</th>\n",
       "      <th></th>\n",
       "      <th></th>\n",
       "    </tr>\n",
       "  </thead>\n",
       "  <tbody>\n",
       "    <tr>\n",
       "      <th>Male</th>\n",
       "      <td>484</td>\n",
       "      <td>84.03</td>\n",
       "    </tr>\n",
       "    <tr>\n",
       "      <th>Female</th>\n",
       "      <td>81</td>\n",
       "      <td>14.06</td>\n",
       "    </tr>\n",
       "    <tr>\n",
       "      <th>Other / Non-Disclosed</th>\n",
       "      <td>11</td>\n",
       "      <td>1.91</td>\n",
       "    </tr>\n",
       "  </tbody>\n",
       "</table>\n",
       "</div>"
      ],
      "text/plain": [
       "                       Total count  Percentage of players\n",
       "Gender                                                   \n",
       "Male                           484                  84.03\n",
       "Female                          81                  14.06\n",
       "Other / Non-Disclosed           11                   1.91"
      ]
     },
     "execution_count": 16,
     "metadata": {},
     "output_type": "execute_result"
    }
   ],
   "source": [
    "gender_purchase_data=purchase_data.groupby([\"Gender\"])\n",
    "gender_uniq_data=gender_purchase_data[\"SN\"].unique()\n",
    "\n",
    "# Number of unique players by gender\n",
    "num_female_uniq=len(gender_uniq_data[\"Female\"])\n",
    "num_male_uniq=len(gender_uniq_data[\"Male\"])\n",
    "num_other_uniq=len(gender_uniq_data[\"Other / Non-Disclosed\"])\n",
    "\n",
    "# Percentage of unique players by gender\n",
    "perc_male=round((num_male_uniq/number_players)*100,2)\n",
    "perc_female=round((num_female_uniq/number_players)*100,2)\n",
    "perc_other=round((num_other_uniq/number_players)*100,2)\n",
    "\n",
    "summary_gender_demo=pd.DataFrame({\"Gender\":[\"Male\",\"Female\",\"Other / Non-Disclosed\"],\"Total count\":[num_male_uniq,\n",
    "                                  num_female_uniq,num_other_uniq],\"Percentage of players\":[perc_male,\n",
    "                                  perc_female,perc_other]})\n",
    "summary_gender_demo=summary_gender_demo.set_index(\"Gender\")\n",
    "summary_gender_demo"
   ]
  },
  {
   "cell_type": "markdown",
   "metadata": {},
   "source": [
    "\n",
    "## Purchasing Analysis (Gender)"
   ]
  },
  {
   "cell_type": "markdown",
   "metadata": {},
   "source": [
    "* Run basic calculations to obtain purchase count, avg. purchase price, avg. purchase total per person etc. by gender\n",
    "\n",
    "\n",
    "\n",
    "\n",
    "* Create a summary data frame to hold the results\n",
    "\n",
    "\n",
    "* Optional: give the displayed data cleaner formatting\n",
    "\n",
    "\n",
    "* Display the summary data frame"
   ]
  },
  {
   "cell_type": "code",
   "execution_count": 17,
   "metadata": {},
   "outputs": [],
   "source": [
    "# Total purchase value by gender\n",
    "purch_value_gender=gender_purchase_data[\"Price\"].sum()\n",
    "purch_value_male=round(purch_value_gender[\"Male\"],2)\n",
    "purch_value_female=round(purch_value_gender[\"Female\"],2)\n",
    "purch_value_other=round(purch_value_gender[\"Other / Non-Disclosed\"],2)"
   ]
  },
  {
   "cell_type": "code",
   "execution_count": 18,
   "metadata": {},
   "outputs": [],
   "source": [
    "# Purchase count by gender\n",
    "purch_count_gender=gender_purchase_data[\"Purchase ID\"].count()\n",
    "purch_count_male=round(purch_count_gender[\"Male\"],2)\n",
    "purch_count_female=round(purch_count_gender[\"Female\"],2)\n",
    "purch_count_other=round(purch_count_gender[\"Other / Non-Disclosed\"],2)"
   ]
  },
  {
   "cell_type": "code",
   "execution_count": 19,
   "metadata": {},
   "outputs": [],
   "source": [
    "# Average purchase price by gender\n",
    "purch_avg_price=gender_purchase_data[\"Price\"].mean()\n",
    "purch_avg_male=round(purch_avg_price[\"Male\"],2)\n",
    "purch_avg_female=round(purch_avg_price[\"Female\"],2)\n",
    "purch_avg_other=round(purch_avg_price[\"Other / Non-Disclosed\"],2)"
   ]
  },
  {
   "cell_type": "code",
   "execution_count": 20,
   "metadata": {},
   "outputs": [],
   "source": [
    "# Average purchase total per person by gender\n",
    "avg_purch_person=purchase_data.groupby([\"Gender\",\"SN\"])\n",
    "avg_purch_person_sum=avg_purch_person[\"Price\"].sum()\n",
    "avg_total_male=round(avg_purch_person_sum[\"Male\"].mean(),2)\n",
    "avg_total_female=round(avg_purch_person_sum[\"Female\"].mean(),2)\n",
    "avg_total_other=round(avg_purch_person_sum[\"Other / Non-Disclosed\"].mean(),2)"
   ]
  },
  {
   "cell_type": "code",
   "execution_count": 24,
   "metadata": {},
   "outputs": [
    {
     "data": {
      "text/html": [
       "<div>\n",
       "<style scoped>\n",
       "    .dataframe tbody tr th:only-of-type {\n",
       "        vertical-align: middle;\n",
       "    }\n",
       "\n",
       "    .dataframe tbody tr th {\n",
       "        vertical-align: top;\n",
       "    }\n",
       "\n",
       "    .dataframe thead th {\n",
       "        text-align: right;\n",
       "    }\n",
       "</style>\n",
       "<table border=\"1\" class=\"dataframe\">\n",
       "  <thead>\n",
       "    <tr style=\"text-align: right;\">\n",
       "      <th></th>\n",
       "      <th>Purchase count</th>\n",
       "      <th>Average purchase price</th>\n",
       "      <th>Total purchase value</th>\n",
       "      <th>Avg total purchases per person</th>\n",
       "    </tr>\n",
       "    <tr>\n",
       "      <th>Gender</th>\n",
       "      <th></th>\n",
       "      <th></th>\n",
       "      <th></th>\n",
       "      <th></th>\n",
       "    </tr>\n",
       "  </thead>\n",
       "  <tbody>\n",
       "    <tr>\n",
       "      <th>male</th>\n",
       "      <td>652</td>\n",
       "      <td>$3.02</td>\n",
       "      <td>$1967.64</td>\n",
       "      <td>$4.07</td>\n",
       "    </tr>\n",
       "    <tr>\n",
       "      <th>female</th>\n",
       "      <td>113</td>\n",
       "      <td>$3.20</td>\n",
       "      <td>$361.94</td>\n",
       "      <td>$4.47</td>\n",
       "    </tr>\n",
       "    <tr>\n",
       "      <th>other</th>\n",
       "      <td>15</td>\n",
       "      <td>$3.35</td>\n",
       "      <td>$50.19</td>\n",
       "      <td>$4.56</td>\n",
       "    </tr>\n",
       "  </tbody>\n",
       "</table>\n",
       "</div>"
      ],
      "text/plain": [
       "        Purchase count Average purchase price Total purchase value  \\\n",
       "Gender                                                               \n",
       "male               652                  $3.02             $1967.64   \n",
       "female             113                  $3.20              $361.94   \n",
       "other               15                  $3.35               $50.19   \n",
       "\n",
       "       Avg total purchases per person  \n",
       "Gender                                 \n",
       "male                            $4.07  \n",
       "female                          $4.47  \n",
       "other                           $4.56  "
      ]
     },
     "execution_count": 24,
     "metadata": {},
     "output_type": "execute_result"
    }
   ],
   "source": [
    "# Summary dataframe\n",
    "gender_summary_df=pd.DataFrame({\"Purchase count\": [purch_count_male, purch_count_female, purch_count_other],\n",
    "                                \"Average purchase price\":[purch_avg_male, purch_avg_female, purch_avg_other],\n",
    "                                \"Total purchase value\": [purch_value_male, purch_value_female, purch_value_other],\n",
    "                                \"Avg total purchases per person\":[avg_total_male, avg_total_female, avg_total_other],\n",
    "                                \"Gender\":[\"male\", \"female\",\"other\"]})\n",
    "gender_summary_df=gender_summary_df.set_index(\"Gender\")\n",
    "gender_summary_df[\"Average purchase price\"]=gender_summary_df[\"Average purchase price\"].map(\"${:.2f}\".format)\n",
    "gender_summary_df[\"Total purchase value\"]=gender_summary_df[\"Total purchase value\"].map(\"${:.2f}\".format)\n",
    "gender_summary_df[\"Avg total purchases per person\"]=gender_summary_df[\"Avg total purchases per person\"].map(\"${:.2f}\".format)\n",
    "gender_summary_df"
   ]
  },
  {
   "cell_type": "markdown",
   "metadata": {},
   "source": [
    "## Age Demographics"
   ]
  },
  {
   "cell_type": "markdown",
   "metadata": {},
   "source": [
    "* Establish bins for ages\n",
    "\n",
    "\n",
    "* Categorize the existing players using the age bins. Hint: use pd.cut()\n",
    "\n",
    "\n",
    "* Calculate the numbers and percentages by age group\n",
    "\n",
    "\n",
    "* Create a summary data frame to hold the results\n",
    "\n",
    "\n",
    "* Optional: round the percentage column to two decimal points\n",
    "\n",
    "\n",
    "* Display Age Demographics Table\n"
   ]
  },
  {
   "cell_type": "code",
   "execution_count": 27,
   "metadata": {},
   "outputs": [
    {
     "data": {
      "text/html": [
       "<div>\n",
       "<style scoped>\n",
       "    .dataframe tbody tr th:only-of-type {\n",
       "        vertical-align: middle;\n",
       "    }\n",
       "\n",
       "    .dataframe tbody tr th {\n",
       "        vertical-align: top;\n",
       "    }\n",
       "\n",
       "    .dataframe thead th {\n",
       "        text-align: right;\n",
       "    }\n",
       "</style>\n",
       "<table border=\"1\" class=\"dataframe\">\n",
       "  <thead>\n",
       "    <tr style=\"text-align: right;\">\n",
       "      <th></th>\n",
       "      <th>Total count</th>\n",
       "      <th>Percentage of players</th>\n",
       "    </tr>\n",
       "  </thead>\n",
       "  <tbody>\n",
       "    <tr>\n",
       "      <th>&lt;10</th>\n",
       "      <td>17</td>\n",
       "      <td>2.95</td>\n",
       "    </tr>\n",
       "    <tr>\n",
       "      <th>10-14</th>\n",
       "      <td>22</td>\n",
       "      <td>3.82</td>\n",
       "    </tr>\n",
       "    <tr>\n",
       "      <th>15-19</th>\n",
       "      <td>107</td>\n",
       "      <td>18.58</td>\n",
       "    </tr>\n",
       "    <tr>\n",
       "      <th>20-24</th>\n",
       "      <td>258</td>\n",
       "      <td>44.79</td>\n",
       "    </tr>\n",
       "    <tr>\n",
       "      <th>25-29</th>\n",
       "      <td>77</td>\n",
       "      <td>13.37</td>\n",
       "    </tr>\n",
       "    <tr>\n",
       "      <th>30-34</th>\n",
       "      <td>52</td>\n",
       "      <td>9.03</td>\n",
       "    </tr>\n",
       "    <tr>\n",
       "      <th>35-40</th>\n",
       "      <td>31</td>\n",
       "      <td>5.38</td>\n",
       "    </tr>\n",
       "    <tr>\n",
       "      <th>&gt;40</th>\n",
       "      <td>12</td>\n",
       "      <td>2.08</td>\n",
       "    </tr>\n",
       "  </tbody>\n",
       "</table>\n",
       "</div>"
      ],
      "text/plain": [
       "       Total count  Percentage of players\n",
       "<10             17                   2.95\n",
       "10-14           22                   3.82\n",
       "15-19          107                  18.58\n",
       "20-24          258                  44.79\n",
       "25-29           77                  13.37\n",
       "30-34           52                   9.03\n",
       "35-40           31                   5.38\n",
       ">40             12                   2.08"
      ]
     },
     "execution_count": 27,
     "metadata": {},
     "output_type": "execute_result"
    }
   ],
   "source": [
    "# Create bins and labels\n",
    "bins=[0,9,14,19,24,29,34,39,100]\n",
    "group_names=[\"<10\",\"10-14\",\"15-19\",\"20-24\",\"25-29\",\"30-34\",\"35-40\",\">40\"]\n",
    "\n",
    "# Categorize players, add column to df and remove duplicates\n",
    "age_purch_data=pd.cut(purchase_data[\"Age\"],bins,labels=group_names)\n",
    "purchase_data[\"Age bins\"]=age_purch_data\n",
    "purchase_data_clean=purchase_data.drop_duplicates([\"SN\"])\n",
    "\n",
    "# Total count of players by age\n",
    "age_counts=pd.DataFrame(purchase_data_clean[\"Age bins\"].value_counts())\n",
    "age_counts=age_counts.reindex([\"<10\",\"10-14\",\"15-19\",\"20-24\",\"25-29\",\"30-34\",\"35-40\",\">40\"])\n",
    "age_counts=age_counts.rename(columns={\"Age bins\":\"Total count\"})\n",
    "\n",
    "# Percentage of players by age\n",
    "age_counts[\"Percentage of players\"]=round(age_counts[\"Total count\"]*100/number_players,2)\n",
    "age_counts"
   ]
  },
  {
   "cell_type": "markdown",
   "metadata": {},
   "source": [
    "## Purchasing Analysis (Age)"
   ]
  },
  {
   "cell_type": "markdown",
   "metadata": {},
   "source": [
    "* Bin the purchase_data data frame by age\n",
    "\n",
    "\n",
    "* Run basic calculations to obtain purchase count, avg. purchase price, avg. purchase total per person etc. in the table below\n",
    "\n",
    "\n",
    "* Create a summary data frame to hold the results\n",
    "\n",
    "\n",
    "* Optional: give the displayed data cleaner formatting\n",
    "\n",
    "\n",
    "* Display the summary data frame"
   ]
  },
  {
   "cell_type": "code",
   "execution_count": null,
   "metadata": {},
   "outputs": [],
   "source": [
    "purchase_data_age_group=purchase_data.groupby([\"Age bins\"])\n",
    "purch_count_age2=purchase_data_age_group[\"SN\"].count()\n",
    "\n",
    "avg_purch_price_age=round(purchase_data_age_group[\"Price\"].mean(),2)\n",
    "\n",
    "total_purch_age=purchase_data_age_group[\"Price\"].sum()\n",
    "total_purch_age=total_purch_age.rename(\"Price2\")\n",
    "\n",
    "#avg purch tot per person\n",
    "purchase_data_age_group=purchase_data.groupby([\"Age bins\",\"SN\"])\n",
    "avg_purch_person_age_sum=purchase_data_age_group[\"Price\"].sum()\n",
    "avg_total_010=round(avg_purch_person_age_sum[\"<10\"].mean(),2)\n",
    "avg_total_1014=round(avg_purch_person_age_sum[\"10-14\"].mean(),2)\n",
    "avg_total_1519=round(avg_purch_person_age_sum[\"15-19\"].mean(),2)\n",
    "avg_total_2024=round(avg_purch_person_age_sum[\"20-24\"].mean(),2)\n",
    "avg_total_2529=round(avg_purch_person_age_sum[\"25-29\"].mean(),2)\n",
    "avg_total_3034=round(avg_purch_person_age_sum[\"30-34\"].mean(),2)\n",
    "avg_total_3540=round(avg_purch_person_age_sum[\"35-40\"].mean(),2)\n",
    "avg_total_40=round(avg_purch_person_age_sum[\">40\"].mean(),2)\n",
    "avg_total_age=pd.Series([avg_total_010,avg_total_1014,avg_total_1519,avg_total_2024,avg_total_2529,avg_total_3034,\n",
    "                        avg_total_3540,avg_total_40], index=[\"<10\",\"10-14\",\"15-19\",\"20-24\",\"25-29\",\"30-34\",\"35-40\",\">40\"])\n",
    "\n",
    "summary_age=pd.concat([purch_count_age2,avg_purch_price_age,total_purch_age,avg_total_age],axis=1)\n",
    "summary_age=summary_age.rename(columns={\"SN\":\"Purchase count\",\"Price\":\"Average purchase price\",\n",
    "                                        \"Price2\":\"Total purchase value\",0:\"Avg total purchase per person\"})\n",
    "del summary_age.index.name\n",
    "summary_age"
   ]
  },
  {
   "cell_type": "markdown",
   "metadata": {},
   "source": [
    "## Top Spenders"
   ]
  },
  {
   "cell_type": "markdown",
   "metadata": {},
   "source": [
    "* Run basic calculations to obtain the results in the table below\n",
    "\n",
    "\n",
    "* Create a summary data frame to hold the results\n",
    "\n",
    "\n",
    "* Sort the total purchase value column in descending order\n",
    "\n",
    "\n",
    "* Optional: give the displayed data cleaner formatting\n",
    "\n",
    "\n",
    "* Display a preview of the summary data frame\n",
    "\n"
   ]
  },
  {
   "cell_type": "code",
   "execution_count": null,
   "metadata": {},
   "outputs": [],
   "source": [
    "#dentify the the top 5 spenders in the game by total purchase value, then list (in a table):\n",
    "purch_per_person=purchase_data.groupby([\"SN\"])\n",
    "purch_value= purch_per_person.sum()\n",
    "purch_value=purch_value.sort_values(\"Price\",ascending=False)\n",
    "top_5_sp=purch_value.head()\n",
    "\n",
    "#SN\n",
    "top_5_names=list(top_5_sp.index)\n",
    "\n",
    "#Purchase Count\n",
    "top_5_purch_count=purch_per_person.count()\n",
    "first_count=top_5_purch_count.loc[top_5_names[0],\"Purchase ID\"]\n",
    "second_count=top_5_purch_count.loc[top_5_names[1],\"Purchase ID\"]\n",
    "third_count=top_5_purch_count.loc[top_5_names[2],\"Purchase ID\"]\n",
    "fourth_count=top_5_purch_count.loc[top_5_names[3],\"Purchase ID\"]\n",
    "fifth_count=top_5_purch_count.loc[top_5_names[4],\"Purchase ID\"]\n",
    "\n",
    "\n",
    "#Average Purchase Price\n",
    "avg_purch_price=purch_per_person.mean()\n",
    "first_avg=round(avg_purch_price.loc[top_5_names[0],\"Price\"],2)\n",
    "second_avg=round(avg_purch_price.loc[top_5_names[1],\"Price\"],2)\n",
    "third_avg=round(avg_purch_price.loc[top_5_names[2],\"Price\"],2)\n",
    "fourth_avg=round(avg_purch_price.loc[top_5_names[3],\"Price\"],2)\n",
    "fifth_avg=round(avg_purch_price.loc[top_5_names[4],\"Price\"],2)\n",
    "\n",
    "#Total Purchase Value\n",
    "total_value_top_5=list(round(top_5_sp[\"Price\"],2))\n",
    "\n",
    "top_5_sp_df=pd.DataFrame({\"SN\":top_5_names,\"Purchase count\":[first_count,second_count,third_count,fourth_count,fifth_count],\n",
    "                          \"Average purchase price\":[first_avg,second_avg,third_avg,fourth_avg,fifth_avg],\n",
    "                          \"Total purchase value\":total_value_top_5})\n",
    "top_5_sp_df=top_5_sp_df.set_index(\"SN\")\n",
    "top_5_sp_df\n"
   ]
  },
  {
   "cell_type": "markdown",
   "metadata": {},
   "source": [
    "## Most Popular Items"
   ]
  },
  {
   "cell_type": "markdown",
   "metadata": {},
   "source": [
    "\n",
    "* Retrieve the Item ID, Item Name, and Item Price columns\n",
    "\n",
    "\n",
    "* Group by Item ID and Item Name. Perform calculations to obtain purchase count, item price, and total purchase value\n",
    "\n",
    "\n",
    "* Create a summary data frame to hold the results\n",
    "\n",
    "\n",
    "* Sort the purchase count column in descending order\n",
    "\n",
    "\n",
    "* Optional: give the displayed data cleaner formatting\n",
    "\n",
    "\n",
    "* Display a preview of the summary data frame"
   ]
  },
  {
   "cell_type": "code",
   "execution_count": null,
   "metadata": {},
   "outputs": [],
   "source": [
    "items_df=purchase_data[[\"Item ID\",\"Item Name\",\"Price\"]]\n",
    "items_df.head\n",
    "\n",
    "items_group=items_df.groupby([\"Item ID\",\"Item Name\"])\n",
    "items_count=items_group[\"Item Name\"].count()\n",
    "\n",
    "items_price=items_group[\"Price\"].first()\n",
    "items_price\n",
    "\n",
    "items_total_value=items_group[\"Price\"].sum()\n",
    "items_total_value=items_total_value.rename(\"Total purchase value\")\n",
    "\n",
    "summary_items=pd.concat([items_count,items_price,items_total_value],axis=1)\n",
    "summary_items=summary_items.rename(columns={\"Item Name\":\"Purchase count\",\"Price\":\"Item price\"})\n",
    "summary_items=summary_items.sort_values(\"Purchase count\",ascending=False)\n",
    "summary_items.head()"
   ]
  },
  {
   "cell_type": "markdown",
   "metadata": {},
   "source": [
    "## Most Profitable Items"
   ]
  },
  {
   "cell_type": "markdown",
   "metadata": {},
   "source": [
    "* Sort the above table by total purchase value in descending order\n",
    "\n",
    "\n",
    "* Optional: give the displayed data cleaner formatting\n",
    "\n",
    "\n",
    "* Display a preview of the data frame\n",
    "\n"
   ]
  },
  {
   "cell_type": "code",
   "execution_count": null,
   "metadata": {
    "scrolled": true
   },
   "outputs": [],
   "source": [
    "most_prof=summary_items.sort_values(\"Total purchase value\", ascending=False)\n",
    "most_prof.head()"
   ]
  }
 ],
 "metadata": {
  "anaconda-cloud": {},
  "kernel_info": {
   "name": "python3"
  },
  "kernelspec": {
   "display_name": "Python 3",
   "language": "python",
   "name": "python3"
  },
  "language_info": {
   "codemirror_mode": {
    "name": "ipython",
    "version": 3
   },
   "file_extension": ".py",
   "mimetype": "text/x-python",
   "name": "python",
   "nbconvert_exporter": "python",
   "pygments_lexer": "ipython3",
   "version": "3.7.1"
  },
  "nteract": {
   "version": "0.2.0"
  }
 },
 "nbformat": 4,
 "nbformat_minor": 2
}
